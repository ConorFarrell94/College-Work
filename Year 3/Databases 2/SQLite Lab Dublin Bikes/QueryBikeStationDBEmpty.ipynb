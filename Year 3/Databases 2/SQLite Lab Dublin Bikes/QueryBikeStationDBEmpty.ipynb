{
 "cells": [
  {
   "cell_type": "markdown",
   "metadata": {},
   "source": [
    "Run the program CreateBikeStationDB to create the database dubbikes.db.  This program opens the SQlite database dubbikes.db that was created by CreateBikeStationDB for querying.  When you have finished writing and running your queries, close the database.\n",
    "\n",
    " ### Things to note:\n",
    " \n",
    "  - The SQL query should be enclosed in pd.read_sql_query(\"    \",conn)\n",
    "  - If you are not using Jupyter Notebook, you will need it to be in a PRINT statement\n",
    "      - print(pd.read_sql_query(\"    \",conn)) where conn is the connection.\n",
    "  - Differences from Oracle SQL:\n",
    "      - use the word except instead of minus\n",
    "      - limit 3 limits the number of rows returned to 3.\n",
    "\n",
    " ### Remember:\n",
    " \n",
    "  - Although this data is in a database, it is not normalized or validated and there are no keys."
   ]
  },
  {
   "cell_type": "markdown",
   "metadata": {},
   "source": [
    "#  To do:\n",
    "\n",
    "Write queries to solve the following:\n",
    "\n",
    " - \tDisplay the first two rows of the usage table.\n",
    " -\tDetermine keys:\n",
    "   -\tStation table:\n",
    "      - Display the number of rows in the station table.\n",
    "      - Display the number of distinct values for a column or set of columns you think could be act as a primary key to the station table.\n",
    "   -\tUsage table:\n",
    "      - Display the number of rows in the usage table.\n",
    "      -\tDisplay the number of distinct values for a column or set of columns you think could be act as a primary key to the usage table\n",
    " - \tJoin columns:\n",
    "   - Which column(s) would you pick  to join the tables?\n",
    "   - Are all of the values in the usage table for every join column value in the station table?\n",
    "   - \tAre all of the values in the station table for every join column value in the usage table?\n",
    " -\t Missing / unmatched values:\n",
    "   - Write a query to list the join column(s) values in the station table that are not in the usage table, if any.\n",
    "   - Write a query to list the join column(s) values in the usage table that are not in the station table, if any.\n",
    "   \n",
    " - Queries:\n",
    "     - return the station name, latitude, longitude and count of times recorded for every station beginning with the letter S in the usage table.\n",
    "     - return the names of stations that are in the usage table, but not in the station table\n",
    "     - return the names of stations that are in the station table, but not in the usage table\n",
    "     - return the count of station names that appear in both the station table and the usage table.\n"
   ]
  },
  {
   "cell_type": "code",
   "execution_count": 1,
   "metadata": {},
   "outputs": [
    {
     "data": {
      "text/plain": [
       "'M:\\\\DB2\\\\dubbikes.db'"
      ]
     },
     "execution_count": 1,
     "metadata": {},
     "output_type": "execute_result"
    }
   ],
   "source": [
    "import sqlite3 as sql\n",
    "import pandas as pd\n",
    "\n",
    "import os\n",
    "dbpath = os.path.join('M:',os.sep,'DB2', 'dubbikes.db')\n",
    "dbpath"
   ]
  },
  {
   "cell_type": "code",
   "execution_count": 2,
   "metadata": {},
   "outputs": [],
   "source": [
    "conn = sql.connect(dbpath)\n",
    "cursor = conn.cursor()"
   ]
  },
  {
   "cell_type": "code",
   "execution_count": 3,
   "metadata": {},
   "outputs": [
    {
     "data": {
      "text/plain": [
       "'M:\\\\POByrne\\\\SQLite'"
      ]
     },
     "execution_count": 3,
     "metadata": {},
     "output_type": "execute_result"
    }
   ],
   "source": [
    "os.getcwd()"
   ]
  },
  {
   "cell_type": "code",
   "execution_count": 4,
   "metadata": {},
   "outputs": [
    {
     "name": "stdout",
     "output_type": "stream",
     "text": [
      "   Number                  Name               Address   Latitude  Longitude\n",
      "0      42      SMITHFIELD NORTH      Smithfield North  53.349562  -6.278198\n",
      "1      30  PARNELL SQUARE NORTH  Parnell Square North  53.353462  -6.265305\n"
     ]
    }
   ],
   "source": [
    "print(pd.read_sql_query(\"select * from station limit 2\",conn))"
   ]
  },
  {
   "cell_type": "code",
   "execution_count": 5,
   "metadata": {},
   "outputs": [
    {
     "name": "stdout",
     "output_type": "stream",
     "text": [
      "                  TIME           NAME  BIKE_STANDS  AVAILABLE_BIKE_STANDS  \\\n",
      "0  2018-10-01 00:00:02  CLARENDON ROW           31                     31   \n",
      "1  2018-10-01 00:05:01  CLARENDON ROW           31                     31   \n",
      "\n",
      "   AVAILABLE_BIKES STATUS        ADDRESS  \n",
      "0                0   Open  Clarendon Row  \n",
      "1                0   Open  Clarendon Row  \n"
     ]
    }
   ],
   "source": [
    "print(pd.read_sql_query(\"select * from usage limit 2\",conn))"
   ]
  },
  {
   "cell_type": "code",
   "execution_count": 6,
   "metadata": {},
   "outputs": [],
   "source": [
    "conn.close()"
   ]
  },
  {
   "cell_type": "code",
   "execution_count": null,
   "metadata": {},
   "outputs": [],
   "source": []
  }
 ],
 "metadata": {
  "kernelspec": {
   "display_name": "Python 3",
   "language": "python",
   "name": "python3"
  },
  "language_info": {
   "codemirror_mode": {
    "name": "ipython",
    "version": 3
   },
   "file_extension": ".py",
   "mimetype": "text/x-python",
   "name": "python",
   "nbconvert_exporter": "python",
   "pygments_lexer": "ipython3",
   "version": "3.7.4"
  }
 },
 "nbformat": 4,
 "nbformat_minor": 2
}
